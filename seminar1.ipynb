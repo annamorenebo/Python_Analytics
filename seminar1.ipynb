{
 "cells": [
  {
   "attachments": {
    "ea2060e3-29f9-46ee-beed-383b451c2fb7.jpeg": {
     "image/jpeg": "[encoded data removed]"
    }
   },
   "cell_type": "markdown",
   "id": "8f90d535-1093-4712-bb54-bbf65b839c3a",
   "metadata": {},
   "source": [
    "![котик.jpeg](attachment:ea2060e3-29f9-46ee-beed-383b451c2fb7.jpeg)"
   ]
  },
  {
   "cell_type": "markdown",
   "id": "cefd1ff2-1b21-46a4-b940-c5fad9b47c6e",
   "metadata": {},
   "source": [
    " ## Задача 1\n",
    "Оформляйте ноутбук, используя эти советы:\n",
    "## Номер задачи - заголовок 2\n",
    "### Номер подзадачи - заголовок 3\n",
    "Предоставленные наборы данных оформляйте, как код <br>\n",
    "Рекомендации для преподавателей по оценке задания:<br>\n",
    "Смотреть, чтобы студент красиво оформлял ноутбук,<br> \n",
    "использовал ячейки с текстом, указывал номера заданий"
   ]
  },
  {
   "cell_type": "markdown",
   "id": "3cc5ba59-46aa-44a3-bdb1-4e85bbc3a0d6",
   "metadata": {},
   "source": [
    "## Задача 2\n",
    "На складе лежат разные фрукты в разном количестве.\n",
    "Нужно написать функцию, которая на вход принимает любое количество названий фруктов и их количество, а возвращает общее количество фруктов на складе"
   ]
  },
  {
   "cell_type": "code",
   "execution_count": 16,
   "id": "dc2db0b1-18c2-423c-ad3d-c12fdbfd2ddc",
   "metadata": {},
   "outputs": [
    {
     "name": "stdout",
     "output_type": "stream",
     "text": [
      "58\n"
     ]
    }
   ],
   "source": [
    "def fruits(**kwargs) -> int:\n",
    "    sum = 0\n",
    "    for key in dict.keys(kwargs):\n",
    "        sum += kwargs[key]\n",
    "    return sum\n",
    "\n",
    "fruits_quantity = fruits(bananas = 12, apples=15,pears = 20, pineapples=13)\n",
    "print(fruits_quantity)"
   ]
  },
  {
   "cell_type": "markdown",
   "id": "7966166e-c058-4267-966c-abb0f3983461",
   "metadata": {},
   "source": [
    "\n",
    "## Задача 3\n",
    "Дан список с затратами на рекламу. Но в данных есть ошибки, некоторые затраты имеют отрицательную величину. Удалите такие значения из списка и посчитайте суммарные затраты Используйте list comprehensions"
   ]
  },
  {
   "cell_type": "code",
   "execution_count": 4,
   "id": "8d8ae9a8-ba18-4e0c-93ee-03363f0ff51c",
   "metadata": {},
   "outputs": [
    {
     "name": "stdout",
     "output_type": "stream",
     "text": [
      "отредактированный список: [100, 125, 345, 655, 200]\n",
      "расходы на рекламу: 1425\n"
     ]
    }
   ],
   "source": [
    "\"\"\"[100, 125, -90, 345, 655, -1, 0, 200]\"\"\"\n",
    "costs = [100, 125, -90, 345, 655, -1, 0, 200]\n",
    "costs_redacted = [n for n in costs if n > 0] \n",
    "print(f\"отредактированный список: {costs_redacted}\")\n",
    "print(f\"расходы на рекламу: {sum(costs_redacted)}\")"
   ]
  },
  {
   "cell_type": "markdown",
   "id": "60797e02-2c0e-4a37-87d5-4cf5b3e70778",
   "metadata": {},
   "source": [
    "## Задача 4 <br>\n",
    "Даны два списка. <br> \n",
    "\n",
    "* Дата покупки: <br> \n",
    "['2021-09-14', '2021-12-15', '2021-09-08', '2021-12-05', '2021-10-09', '2021-09-30', '2021-12-22', '2021-11-29', '2021-12-24', '2021-11-26', '2021-10-27', '2021-12-18', '2021-11-09', '2021-11-23', '2021-09-27', '2021-10-02', '2021-12-27', '2021-09-20', '2021-12-13', '2021-11-01', '2021-11-09', '2021-12-06', '2021-12-08', '2021-10-09', '2021-10-31', '2021-09-30', '2021-11-09', '2021-12-13', '2021-10-26', '2021-12-09'] <br>\n",
    "* Суммы покупок по датам: <br>\n",
    "[1270, 8413, 9028, 3703, 5739, 4095, 295, 4944, 5723, 3701, 4471, 651, 7037, 4274, 6275, 4988, 6930, 2971, 6592, 2004, 2822, 519, 3406, 2732, 5015, 2008, 316, 6333, 5700, 2887]"
   ]
  },
  {
   "cell_type": "markdown",
   "id": "6bb39a6a-d7b7-4ee2-9563-5b41bb3e2a62",
   "metadata": {},
   "source": [
    "### Задача 4.1 <br>\n",
    "Найдите, какая выручка у компании в ноябре <br>\n",
    "Используйте list comprehensions"
   ]
  },
  {
   "cell_type": "code",
   "execution_count": 126,
   "id": "7e87f36c-abc2-43b7-95f0-657f95e540eb",
   "metadata": {},
   "outputs": [
    {
     "name": "stdout",
     "output_type": "stream",
     "text": [
      "покупки в ноябре : [4944, 3701, 7037, 4274, 2004, 2822, 316]\n",
      "сумма покупок в ноябре: 25098\n"
     ]
    }
   ],
   "source": [
    "import numpy as np\n",
    "dates = ['2021-09-14', '2021-12-15', '2021-09-08', '2021-12-05', '2021-10-09', '2021-09-30',\n",
    "         '2021-12-22', '2021-11-29', '2021-12-24', '2021-11-26', '2021-10-27', '2021-12-18', \n",
    "         '2021-11-09', '2021-11-23', '2021-09-27', '2021-10-02', '2021-12-27', '2021-09-20', \n",
    "         '2021-12-13', '2021-11-01', '2021-11-09', '2021-12-06', '2021-12-08', '2021-10-09', \n",
    "         '2021-10-31', '2021-09-30', '2021-11-09', '2021-12-13', '2021-10-26', '2021-12-09']\n",
    "\n",
    "profits = [1270, 8413, 9028, 3703, 5739, 4095, 295, 4944, 5723,\n",
    "          3701, 4471, 651, 7037, 4274, 6275, 4988, 6930, 2971, \n",
    "          6592, 2004, 2822, 519, 3406, 2732, 5015, 2008, 316, 6333, 5700, 2887]\n",
    "profits_november = [profits[i] for i in range(len(dates)) if int(dates[i][5:7])==11]\n",
    "print(f\"покупки в ноябре : {profits_november}\")\n",
    "print(f\"сумма покупок в ноябре: {np.sum(profits_november)}\")"
   ]
  },
  {
   "cell_type": "markdown",
   "id": "c7e0ed4b-56cc-4567-9f94-303fa86c2446",
   "metadata": {},
   "source": [
    "### Задача 4.2 <br>\n",
    "Найдите выручку компании в зависимости от месяца <br>\n",
    "Для этого напишите функцию, которая на вход принимает список с датами и список с выручкой,<br> а на выходе словарь, где ключи - это месяцы, а значения - это выручка. <br>\n",
    "Используйте аннотирование типов"
   ]
  },
  {
   "cell_type": "code",
   "execution_count": 130,
   "id": "8a60ad4d-eb2f-4b9e-a1c3-0f5b0df857d4",
   "metadata": {},
   "outputs": [
    {
     "name": "stdout",
     "output_type": "stream",
     "text": [
      "{9: 25647, 12: 45452, 10: 28645, 11: 25098}\n"
     ]
    }
   ],
   "source": [
    "def profit_months(dates: list, profits: list) -> dict:\n",
    "    dict_month = {}\n",
    "    for i in range(len(dates)):\n",
    "        month = int(dates[i][5:7])\n",
    "        dict_month[month] = dict_month.get(month,0)+profits[i]\n",
    "    return dict_month\n",
    "\n",
    "\n",
    "print(profit_months(dates, profits))"
   ]
  }
 ],
 "metadata": {
  "kernelspec": {
   "display_name": "Python 3 (ipykernel)",
   "language": "python",
   "name": "python3"
  },
  "language_info": {
   "codemirror_mode": {
    "name": "ipython",
    "version": 3
   },
   "file_extension": ".py",
   "mimetype": "text/x-python",
   "name": "python",
   "nbconvert_exporter": "python",
   "pygments_lexer": "ipython3",
   "version": "3.11.2"
  }
 },
 "nbformat": 4,
 "nbformat_minor": 5
}
